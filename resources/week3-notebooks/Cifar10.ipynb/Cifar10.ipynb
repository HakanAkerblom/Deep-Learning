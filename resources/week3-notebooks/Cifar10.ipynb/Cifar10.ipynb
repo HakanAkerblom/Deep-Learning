{
 "cells": [
  {
   "cell_type": "markdown",
   "id": "7ab8e807-1c5d-4ac9-b570-5fdedd14981b",
   "metadata": {},
   "source": [
    "# Training a network on the CIFAR10 dataset"
   ]
  },
  {
   "cell_type": "markdown",
   "id": "871158de-b4ed-4502-9043-6d8dc737d1b8",
   "metadata": {},
   "source": [
    "We'll train a custom network on the cifar10 dataset. CIFAR10 is a dataset of images categorized into 10 categories. Goal of the network is to classify the images into the correct category."
   ]
  },
  {
   "cell_type": "markdown",
   "id": "88f4f230-e16e-420c-b614-865a28cf4ce1",
   "metadata": {},
   "source": [
    "Let's start with loading any libraries you need."
   ]
  },
  {
   "cell_type": "code",
   "execution_count": 56,
   "id": "d20bef78-771d-4c9a-9c22-95e983b4a3e3",
   "metadata": {},
   "outputs": [],
   "source": [
    "# Load libraries you need here\n",
    "from tensorflow.keras.datasets import cifar10\n",
    "import matplotlib.pyplot as plt\n",
    "from tensorflow.keras.models import Sequential\n",
    "from tensorflow.keras.layers import Conv2D\n",
    "from sklearn.model_selection import train_test_split\n",
    "from tensorflow.keras.utils import to_categorical\n",
    "from tensorflow.keras.layers import MaxPooling2D\n",
    "from tensorflow.keras.layers import Flatten\n",
    "from tensorflow.keras.layers import Dense\n",
    "from tensorflow.keras.layers import Dropout\n",
    "from tensorflow.keras import regularizers"
   ]
  },
  {
   "cell_type": "markdown",
   "id": "27a4f817-3f2f-4368-a11d-1787ad82529d",
   "metadata": {},
   "source": [
    "Load the data from the CIFAR10. The CIFAR-10 dataset contains 60,000 32x32 color images in 10 classes.\n",
    "Info can be found in the documentation: https://www.tensorflow.org/api_docs/python/tf/keras/datasets/cifar10/load_data"
   ]
  },
  {
   "cell_type": "code",
   "execution_count": 57,
   "id": "b5079422-8611-4252-baff-bd93370a66ba",
   "metadata": {},
   "outputs": [
    {
     "data": {
      "text/plain": [
       "((40000, 32, 32, 3),\n",
       " (10000, 32, 32, 3),\n",
       " (10000, 32, 32, 3),\n",
       " (40000, 10),\n",
       " (10000, 10),\n",
       " (10000, 10))"
      ]
     },
     "execution_count": 57,
     "metadata": {},
     "output_type": "execute_result"
    }
   ],
   "source": [
    "(X_train, y_train), (X_test, y_test) = tf.keras.datasets.cifar10.load_data()\n",
    "y_train = to_categorical(y_train)\n",
    "y_test = to_categorical(y_test)\n",
    "\n",
    "X_train, X_test = X_train / 255, X_test / 255\n",
    "\n",
    "X_train, X_val, y_train, y_val = train_test_split(\n",
    "    X_train, y_train, test_size=0.2, random_state=42\n",
    ")\n",
    "\n",
    "X_train.shape, X_test.shape, X_val.shape, y_train.shape, y_test.shape, y_val.shape\n"
   ]
  },
  {
   "cell_type": "markdown",
   "id": "be68dcda-adb9-4cbf-8f23-c39b4deae925",
   "metadata": {},
   "source": [
    "Create your model using conv2D layers, some type of pooling and finish with a dense network."
   ]
  },
  {
   "cell_type": "code",
   "execution_count": 58,
   "id": "8a3efe32-d1ed-42b7-99ff-dfde67538989",
   "metadata": {},
   "outputs": [],
   "source": [
    "model = Sequential()\n",
    "model.add(\n",
    "    Conv2D(\n",
    "        filters=32,\n",
    "        kernel_size=(3, 3),\n",
    "        activation=\"relu\",\n",
    "        kernel_initializer=\"he_uniform\",\n",
    "        padding=\"same\",\n",
    "        input_shape=(32, 32, 3),\n",
    "        kernel_regularizer=regularizers.L1L2(l1=1e-5, l2=1e-4),\n",
    "    )\n",
    ")\n",
    "model.add(\n",
    "    Conv2D(\n",
    "        filters=32,\n",
    "        kernel_size=(3, 3),\n",
    "        activation=\"relu\",\n",
    "        kernel_initializer=\"he_uniform\",\n",
    "        padding=\"same\",\n",
    "        kernel_regularizer=regularizers.L1L2(l1=1e-5, l2=1e-4),\n",
    "    )\n",
    ")\n",
    "model.add(MaxPooling2D(pool_size=(2, 2)))\n",
    "model.add(Dropout(0.2))\n",
    "model.add(\n",
    "    Conv2D(\n",
    "        filters=64,\n",
    "        kernel_size=(5, 5),\n",
    "        activation=\"relu\",\n",
    "        kernel_initializer=\"he_uniform\",\n",
    "        padding=\"same\",\n",
    "        kernel_regularizer=regularizers.L1L2(l1=1e-5, l2=1e-4),\n",
    "    )\n",
    ")\n",
    "model.add(\n",
    "    Conv2D(\n",
    "        filters=64,\n",
    "        kernel_size=(5, 5),\n",
    "        activation=\"relu\",\n",
    "        kernel_initializer=\"he_uniform\",\n",
    "        padding=\"same\",\n",
    "        kernel_regularizer=regularizers.L1L2(l1=1e-5, l2=1e-4),\n",
    "    )\n",
    ")\n",
    "model.add(MaxPooling2D(pool_size=(2, 2)))\n",
    "model.add(Dropout(0.2))\n",
    "\n",
    "model.add(\n",
    "    Conv2D(\n",
    "        filters=128,\n",
    "        kernel_size=(7, 7),\n",
    "        activation=\"relu\",\n",
    "        kernel_initializer=\"he_uniform\",\n",
    "        padding=\"same\",\n",
    "        kernel_regularizer=regularizers.L1L2(l1=1e-5, l2=1e-4),\n",
    "    )\n",
    ")\n",
    "model.add(\n",
    "    Conv2D(\n",
    "        filters=128,\n",
    "        kernel_size=(7, 7),\n",
    "        activation=\"relu\",\n",
    "        kernel_initializer=\"he_uniform\",\n",
    "        padding=\"same\",\n",
    "        kernel_regularizer=regularizers.L1L2(l1=1e-5, l2=1e-4),\n",
    "    )\n",
    ")\n",
    "model.add(MaxPooling2D(pool_size=(2, 2)))\n",
    "model.add(Dropout(0.2))\n",
    "\n",
    "model.add(Flatten())\n",
    "model.add(Dense(128, activation=\"relu\", kernel_initializer=\"he_uniform\"))\n",
    "model.add(Dense(10, activation=\"softmax\"))\n",
    "\n",
    "\n",
    "model.compile(optimizer=\"Adam\", loss=\"categorical_crossentropy\", metrics=[\"accuracy\"])"
   ]
  },
  {
   "cell_type": "markdown",
   "id": "bc5b6359-3bc8-4080-9cc5-c82531e4c565",
   "metadata": {},
   "source": [
    "Train your model. Since the dataset is so big not a lot of epochs should be needed to start seeing results."
   ]
  },
  {
   "cell_type": "code",
   "execution_count": 59,
   "id": "23c23e38-2942-4ae6-ba18-a662ea4ac75d",
   "metadata": {},
   "outputs": [
    {
     "name": "stdout",
     "output_type": "stream",
     "text": [
      "Epoch 1/10\n",
      "1250/1250 [==============================] - 87s 69ms/step - loss: 1.8744 - accuracy: 0.3854 - val_loss: 1.5062 - val_accuracy: 0.5175\n",
      "Epoch 2/10\n",
      "1250/1250 [==============================] - 84s 67ms/step - loss: 1.3509 - accuracy: 0.5635 - val_loss: 1.2001 - val_accuracy: 0.6201\n",
      "Epoch 3/10\n",
      "1250/1250 [==============================] - 80s 64ms/step - loss: 1.1632 - accuracy: 0.6436 - val_loss: 1.0882 - val_accuracy: 0.6761\n",
      "Epoch 4/10\n",
      "1250/1250 [==============================] - 79s 63ms/step - loss: 1.0537 - accuracy: 0.6927 - val_loss: 1.0347 - val_accuracy: 0.7039\n",
      "Epoch 5/10\n",
      "1250/1250 [==============================] - 84s 67ms/step - loss: 0.9901 - accuracy: 0.7207 - val_loss: 0.9599 - val_accuracy: 0.7320\n",
      "Epoch 6/10\n",
      "1250/1250 [==============================] - 75s 60ms/step - loss: 0.9463 - accuracy: 0.7430 - val_loss: 0.9596 - val_accuracy: 0.7417\n",
      "Epoch 7/10\n",
      "1250/1250 [==============================] - 80s 64ms/step - loss: 0.9181 - accuracy: 0.7590 - val_loss: 0.9572 - val_accuracy: 0.7535\n",
      "Epoch 8/10\n",
      "1250/1250 [==============================] - 81s 65ms/step - loss: 0.8976 - accuracy: 0.7713 - val_loss: 0.9865 - val_accuracy: 0.7484\n",
      "Epoch 9/10\n",
      "1250/1250 [==============================] - 82s 66ms/step - loss: 0.8835 - accuracy: 0.7774 - val_loss: 0.9811 - val_accuracy: 0.7545\n",
      "Epoch 10/10\n",
      "1250/1250 [==============================] - 86s 69ms/step - loss: 0.8602 - accuracy: 0.7890 - val_loss: 0.9322 - val_accuracy: 0.7733\n"
     ]
    }
   ],
   "source": [
    "history = model.fit(X_train, y_train, epochs=10, validation_data=(X_val, y_val))\n"
   ]
  },
  {
   "cell_type": "code",
   "execution_count": 69,
   "metadata": {},
   "outputs": [
    {
     "name": "stdout",
     "output_type": "stream",
     "text": [
      "Epoch 1/5\n",
      "1250/1250 [==============================] - 85s 68ms/step - loss: 0.8030 - accuracy: 0.8349 - val_loss: 1.0097 - val_accuracy: 0.7837\n",
      "Epoch 2/5\n",
      "1250/1250 [==============================] - 88s 71ms/step - loss: 0.8054 - accuracy: 0.8382 - val_loss: 0.9721 - val_accuracy: 0.7952\n",
      "Epoch 3/5\n",
      "1250/1250 [==============================] - 89s 71ms/step - loss: 0.8020 - accuracy: 0.8395 - val_loss: 0.9861 - val_accuracy: 0.7956\n",
      "Epoch 4/5\n",
      "1250/1250 [==============================] - 87s 69ms/step - loss: 0.8024 - accuracy: 0.8413 - val_loss: 1.0149 - val_accuracy: 0.7837\n",
      "Epoch 5/5\n",
      "1250/1250 [==============================] - 82s 66ms/step - loss: 0.7895 - accuracy: 0.8447 - val_loss: 1.0226 - val_accuracy: 0.7904\n"
     ]
    }
   ],
   "source": [
    "history = model.fit(X_train, y_train, epochs=5, validation_data=(X_val, y_val))"
   ]
  },
  {
   "cell_type": "markdown",
   "id": "34ff3355-176f-438c-b467-85cf862b8482",
   "metadata": {},
   "source": [
    "Visualize the model performance"
   ]
  },
  {
   "cell_type": "code",
   "execution_count": 70,
   "id": "96125902-bd6a-47fc-813c-099d49e60476",
   "metadata": {},
   "outputs": [
    {
     "data": {
      "image/png": "[encoded data removed]",
      "text/plain": [
       "<Figure size 1200x400 with 2 Axes>"
      ]
     },
     "metadata": {},
     "output_type": "display_data"
    }
   ],
   "source": [
    "plt.figure(figsize=(12, 4))\n",
    "plt.subplot(1, 2, 1)\n",
    "plt.plot(history.history['accuracy'], label='Training Accuracy')\n",
    "plt.plot(history.history['val_accuracy'], label='Validation Accuracy')\n",
    "plt.title('Accuracy over Epochs')\n",
    "plt.xlabel('Epoch')\n",
    "plt.ylabel('Accuracy')\n",
    "plt.legend()\n",
    "\n",
    "plt.subplot(1, 2, 2)\n",
    "plt.plot(history.history['loss'], label='Training Loss')\n",
    "plt.plot(history.history['val_loss'], label='Validation Loss')\n",
    "plt.title('Loss over Epochs')\n",
    "plt.xlabel('Epoch')\n",
    "plt.ylabel('Loss')\n",
    "plt.legend()\n",
    "\n",
    "plt.show()\n"
   ]
  },
  {
   "cell_type": "markdown",
   "id": "6cda7ca3-26fc-4314-9ffe-46235642e2fc",
   "metadata": {},
   "source": [
    "Evaluate on the test set"
   ]
  },
  {
   "cell_type": "code",
   "execution_count": 71,
   "id": "8761dbc6-8cff-48ba-8de2-709f21a35ab8",
   "metadata": {},
   "outputs": [
    {
     "name": "stdout",
     "output_type": "stream",
     "text": [
      "313/313 - 6s - loss: 1.0448 - accuracy: 0.7881 - 6s/epoch - 18ms/step\n"
     ]
    }
   ],
   "source": [
    "test_loss, test_accuracy = model.evaluate(X_test, y_test, verbose=2)\n",
    "\n",
    "\n",
    "\n"
   ]
  },
  {
   "cell_type": "markdown",
   "id": "433a1e30-4bb6-4975-a74a-d9a04fbab465",
   "metadata": {},
   "source": [
    "# Excercise\n",
    "Experiment with different architectures and try to find a model that performs well."
   ]
  },
  {
   "cell_type": "code",
   "execution_count": 72,
   "id": "154e88fc-2c28-4903-80aa-b299321204ab",
   "metadata": {},
   "outputs": [],
   "source": [
    "\n",
    "# prints and plots you might need to evaluate.\n",
    "\n",
    "# result without regularization:\n",
    "# 313/313 - 2s - loss: 1.3224 - accuracy: 0.7218 - 2s/epoch - 6ms/step\n",
    "\n",
    "# result with dropout(0.2)\n",
    "# 313/313 - 2s - loss: 0.7836 - accuracy: 0.7550 - 2s/epoch - 6ms/step\n",
    "\n",
    "# result with l1 and l2 wegith regularization\n",
    "# 313/313 - 2s - loss: 0.8709 - accuracy: 0.7635 - 2s/epoch - 6ms/step\n",
    "\n",
    "# added another Conv layer, changed filter sizes to 3x3 5x5 7x7\n",
    "# 313/313 - 5s - loss: 0.9546 - accuracy: 0.7689 - 5s/epoch - 17ms/step\n",
    "\n",
    "# did five more steps:\n",
    "# 313/313 - 6s - loss: 0.9818 - accuracy: 0.7762 - 6s/epoch - 18ms/step\n",
    "\n",
    "# did five more steps:\n",
    "# 313/313 - 6s - loss: 1.0021 - accuracy: 0.7854 - 6s/epoch - 20ms/step\n",
    "\n",
    "# did five more steps:\n",
    "# 313/313 - 6s - loss: 1.0448 - accuracy: 0.7881 - 6s/epoch - 18ms/step\n"
   ]
  }
 ],
 "metadata": {
  "kernelspec": {
   "display_name": "Python 3 (ipykernel)",
   "language": "python",
   "name": "python3"
  },
  "language_info": {
   "codemirror_mode": {
    "name": "ipython",
    "version": 3
   },
   "file_extension": ".py",
   "mimetype": "text/x-python",
   "name": "python",
   "nbconvert_exporter": "python",
   "pygments_lexer": "ipython3",
   "version": "3.10.11"
  }
 },
 "nbformat": 4,
 "nbformat_minor": 5
}
